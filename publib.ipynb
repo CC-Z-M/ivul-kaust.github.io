{
  "nbformat": 4,
  "nbformat_minor": 0,
  "metadata": {
    "colab": {
      "name": "publib.ipynb",
      "provenance": [],
      "collapsed_sections": []
    },
    "kernelspec": {
      "name": "python3",
      "display_name": "Python 3"
    }
  },
  "cells": [
    {
      "cell_type": "markdown",
      "metadata": {
        "colab_type": "text",
        "id": "b8KWLY3Fvx3T"
      },
      "outputs": [],
      "source": [
        "Go to [KAUST Repository](https://repository.kaust.edu.sa) and make sure to login if the author had more than 50 publications. Otherwise, you will not be able to download all the publications unless you manually select them with the checkboxes. Once logged in, go to [this page](https://repository.kaust.edu.sa/search-filter?field=author) and select an author. You will be directed to the author search page. Click on export and select the desired format, make sure that the number of publications matches the total number of search results. For Bernard Ghanem, [this](https://repository.kaust.edu.sa/discover/export?format=csv&view=list&rpp=10&etal=0&group_by=none&page=1&filtertype_0=author&filter_relational_operator_0=authority&filter_0=975843ef3274b4392b6a3b5f8d4beb62) is the download link."
      ]
    },
    {
      "cell_type": "code",
      "execution_count": 2,
      "metadata": {},
      "outputs": [],
      "source": [
        "KAUST_REPO_BIB_FILE = 'Bernard_2019_12_24.bib'\n",
        "TITLE_SIMILARITY_THRESHOLD = 0.95  # [0, 1)\n",
        "CAREFUL = False  # ask if the match is not perfect"
      ]
    },
    {
      "cell_type": "code",
      "execution_count": 3,
      "metadata": {},
      "outputs": [
        {
          "data": {
            "text/plain": "30"
          },
          "execution_count": 3,
          "metadata": {},
          "output_type": "execute_result"
        }
      ],
      "source": [
        "import json\n",
        "from difflib import SequenceMatcher\n",
        "\n",
        "from publib import Publication, PUBLIB as publib\n",
        "\n",
        "\n",
        "def similarity(a, b):\n",
        "    return SequenceMatcher(None, a.lower(), b.lower()).ratio()\n",
        "\n",
        "def parse_formated_bib(bibfile):\n",
        "    # only every two entries must be separated by '\\n}\\n'\n",
        "    # every field must be one liner and tightly surrounded by {}\n",
        "    # the authors must be like 'Last, first' separated by ' and '\n",
        "    out = []\n",
        "    with open(bibfile, 'r') as f:\n",
        "        for entry in f.read().split('\\n}\\n'):\n",
        "            out.append({})\n",
        "            lines = [l.split('=') for l in entry.split('\\n')]\n",
        "            for line in lines:\n",
        "                if len(line) != 2:\n",
        "                    continue\n",
        "                key = line[0].strip()\n",
        "                start = line[1].index('{') + 1\n",
        "                end = line[1].rindex('}')\n",
        "                value = line[1][start:end]\n",
        "                if key == 'year':\n",
        "                    value = int(value)\n",
        "                elif key == 'author':\n",
        "                    value = [' '.join(reversed(a.split(', ')))\n",
        "                            for a in value.split(' and ')]\n",
        "                out[-1][key] = value\n",
        "    return out\n",
        "\n",
        "count = 0\n",
        "biblib = parse_formated_bib(KAUST_REPO_BIB_FILE)\n",
        "for p in publib:\n",
        "    sim = [similarity(b['title'], p.title) for b in biblib]\n",
        "    arg = max(enumerate(sim), key=lambda x: x[1])[0]\n",
        "    if sim[arg] > TITLE_SIMILARITY_THRESHOLD:\n",
        "        b = biblib[arg]\n",
        "        if CAREFUL and sim[arg] != 1:\n",
        "            print('(publib)', p.title)\n",
        "            print('(biblib)', b['title'])\n",
        "            while True:\n",
        "                answer = input('match? (y/n): ')\n",
        "                if answer in 'yn':\n",
        "                    break\n",
        "            if answer == 'n':\n",
        "                print('skipped')\n",
        "                continue\n",
        "        p.abstract = b.get('note', p.abstract)\n",
        "        p.handle = b['url'][b['url'].rfind('t/') + 2:]\n",
        "        count += 1\n",
        "count"
      ]
    },
    {
      "cell_type": "code",
      "execution_count": 6,
      "metadata": {},
      "outputs": [],
      "source": [
        "authors = list(Publication.AUTHORS.keys())\n",
        "lib = {\n",
        "    'venue': list(Publication.VENUES.keys()),\n",
        "    'full_venue': list(Publication.VENUES.values()),\n",
        "    'author': list(Publication.AUTHORS.values()),\n",
        "    'coauthor': [''] + list(Publication.COAUTHORS),\n",
        "    'distinction': list(Publication.DISTINCTIONS),\n",
        "    'link': list(Publication.LINKS),\n",
        "    'keys': ['handle', 'theme', 'year', 'venue', 'thumbnail', 'paper',\n",
        "             'title', 'authors', 'coauthors', 'distinctions', 'links',\n",
        "             'abstract'],\n",
        "}\n",
        "\n",
        "def get(p, key, lib=lib, authors=authors):\n",
        "    if key in {'theme', 'thumbnail', 'paper', 'title', 'abstract'}:\n",
        "        return getattr(p, key)\n",
        "    elif key == 'handle':\n",
        "        return p.handle if p.handle else 0\n",
        "    elif key == 'year':\n",
        "        return p.year - 2000\n",
        "    elif key == 'venue':\n",
        "        return lib['venue'].index(p.venue)\n",
        "    elif key == 'authors':\n",
        "        return [authors.index(a) for s in p.authors for a in s]\n",
        "    elif key == 'coauthors':\n",
        "        count = 0\n",
        "        coauthors = []\n",
        "        for a in p.authors:\n",
        "            if len(a) > 1:\n",
        "                count += 1\n",
        "                coauthors.append(count)\n",
        "            else:\n",
        "                coauthors.append(0)\n",
        "        return [c for s, c in zip(p.authors, coauthors) for a in s]\n",
        "    elif key == 'distinctions':\n",
        "        return [lib['distinction'].index(d) for d in p.distinctions]\n",
        "    elif key == 'links':\n",
        "        return [p.links[l] if l in p.links else 0 for l in lib['link']]\n",
        "    else:\n",
        "        raise ValueError(f'unknown key: {key}')\n",
        "\n",
        "lib['lib'] = [[get(p, k) for k in lib['keys']] for p in publib]\n",
        "with open('publib.js', 'w') as f:\n",
        "    f.write('const publib = ')\n",
        "    f.write(repr(lib))\n",
        "    f.write(';')"
      ]
    }
  ]
}